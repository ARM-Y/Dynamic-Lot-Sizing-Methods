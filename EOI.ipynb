{
 "cells": [
  {
   "cell_type": "markdown",
   "metadata": {},
   "source": [
    "# EOI(Economic order interval)"
   ]
  },
  {
   "cell_type": "code",
   "execution_count": 17,
   "metadata": {},
   "outputs": [
    {
     "name": "stdout",
     "output_type": "stream",
     "text": [
      "please enter your dynamic demand with SPACE as separator and at the end press ENTER!\n",
      "Enter period demand: 0 0 15 15\n",
      "... visualizing, please wait ...\n",
      "\n",
      "i    Demand\n",
      "1         0\n",
      "2         0\n",
      "3        15\n",
      "4        15\n",
      "dtype: object\n",
      "\n",
      "Please enter H:1\n",
      "Please enter A:50\n"
     ]
    }
   ],
   "source": [
    "#Demand entry\n",
    "\n",
    "print(\"please enter your dynamic demand with SPACE as separator and at the end press ENTER!\")\n",
    "data_list = [int(x) for x in input(\"Enter period demand: \").split()]\n",
    "\n",
    "#data visualization\n",
    "n=len(data_list)\n",
    "_index = [i+1 for i in range(n)]\n",
    "d_list=[data_list[i] for i in range(n)]\n",
    "\n",
    "print(\"... visualizing, please wait ...\")\n",
    "import pandas as pd\n",
    "d_list.insert(0,'Demand')\n",
    "_index.insert(0,'i')\n",
    "Data= pd.Series(d_list,_index)\n",
    "print(\"\")\n",
    "print(Data)\n",
    "print(\"\")\n",
    "\n",
    "#parameters\n",
    "num2 = input(\"Please enter H:\")\n",
    "H=float(num2)\n",
    "num3 = input(\"Please enter A:\")\n",
    "A=float(num3)"
   ]
  },
  {
   "cell_type": "code",
   "execution_count": 18,
   "metadata": {},
   "outputs": [
    {
     "name": "stdout",
     "output_type": "stream",
     "text": [
      "T is: 4\n"
     ]
    }
   ],
   "source": [
    "#calculating T!\n",
    "sumD =0\n",
    "for i in data_list :\n",
    "    sumD = sumD + i\n",
    "meanD = sumD/n\n",
    "\n",
    "import math\n",
    "T= math.ceil(math.sqrt(2*A/H/meanD))\n",
    "print(\"T is:\",T)"
   ]
  },
  {
   "cell_type": "code",
   "execution_count": 19,
   "metadata": {},
   "outputs": [
    {
     "name": "stdout",
     "output_type": "stream",
     "text": [
      "\n",
      "... calculating, please wait ...\n",
      "\n",
      "EOI programming is : \n",
      "30 0 0 0 "
     ]
    }
   ],
   "source": [
    "#calculating\n",
    "print(\"\")\n",
    "print(\"... calculating, please wait ...\")\n",
    "print(\"\")\n",
    "print(\"EOI programming is : \")\n",
    "\n",
    "order=[0 for i in range(n)]\n",
    "\n",
    "for i in range(T):\n",
    "    data_list.append(0)\n",
    "\n",
    "for j in range(n) :\n",
    "    s=0\n",
    "    if j%T == 0 :\n",
    "        for i in range(j,j+T) :\n",
    "            s=s+data_list[i]\n",
    "        order[j]=s\n",
    "        print (s,end=' ')\n",
    "    else :\n",
    "        print (0,end=' ')"
   ]
  },
  {
   "cell_type": "code",
   "execution_count": 20,
   "metadata": {},
   "outputs": [
    {
     "name": "stdout",
     "output_type": "stream",
     "text": [
      "\n",
      "... calculating, please wait for better visualization ...\n",
      "\n",
      "Order plan:\n",
      "\n",
      "i    Order\n",
      "1       30\n",
      "2        0\n",
      "3        0\n",
      "4        0\n",
      "dtype: object\n",
      "\n"
     ]
    }
   ],
   "source": [
    "#better visualization\n",
    "print(\"\")\n",
    "print(\"... calculating, please wait for better visualization ...\")\n",
    "\n",
    "order.insert(0,'Order')\n",
    "ORD= pd.Series(order,_index)\n",
    "print(\"\")\n",
    "print(\"Order plan:\")\n",
    "print(\"\")\n",
    "print(ORD)\n",
    "print(\"\")"
   ]
  },
  {
   "cell_type": "code",
   "execution_count": null,
   "metadata": {},
   "outputs": [],
   "source": []
  }
 ],
 "metadata": {
  "kernelspec": {
   "display_name": "Python 3 (ipykernel)",
   "language": "python",
   "name": "python3"
  },
  "language_info": {
   "codemirror_mode": {
    "name": "ipython",
    "version": 3
   },
   "file_extension": ".py",
   "mimetype": "text/x-python",
   "name": "python",
   "nbconvert_exporter": "python",
   "pygments_lexer": "ipython3",
   "version": "3.10.6"
  }
 },
 "nbformat": 4,
 "nbformat_minor": 2
}
