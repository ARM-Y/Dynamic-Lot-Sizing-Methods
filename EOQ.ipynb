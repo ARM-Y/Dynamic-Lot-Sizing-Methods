{
 "cells": [
  {
   "cell_type": "markdown",
   "metadata": {},
   "source": [
    "# EOQ (Economic order quantity) Method"
   ]
  },
  {
   "cell_type": "code",
   "execution_count": 18,
   "metadata": {},
   "outputs": [
    {
     "name": "stdout",
     "output_type": "stream",
     "text": [
      "please enter your dynamic demand with SPACE as separator and at the end press ENTER!\n",
      "Enter period demand: 24 25 23 24 25\n",
      "... visualizing, please wait ...\n",
      "\n",
      "i    Demand\n",
      "1        24\n",
      "2        25\n",
      "3        23\n",
      "4        24\n",
      "5        25\n",
      "dtype: object\n",
      "\n",
      "Please enter H:2\n",
      "Please enter A:50\n",
      "Please enter first level of inventory:0\n"
     ]
    }
   ],
   "source": [
    "#Demand entry\n",
    "\n",
    "print(\"please enter your dynamic demand with SPACE as separator and at the end press ENTER!\")\n",
    "data_list = [int(x) for x in input(\"Enter period demand: \").split()]\n",
    "\n",
    "#data visualization\n",
    "n=len(data_list)\n",
    "_index = [i+1 for i in range(n)]\n",
    "d_list=[data_list[i] for i in range(n)]\n",
    "\n",
    "print(\"... visualizing, please wait ...\")\n",
    "import pandas as pd\n",
    "d_list.insert(0,'Demand')\n",
    "_index.insert(0,'i')\n",
    "Data= pd.Series(d_list,_index)\n",
    "print(\"\")\n",
    "print(Data)\n",
    "print(\"\")\n",
    "\n",
    "#parameters\n",
    "num2 = input(\"Please enter H:\")\n",
    "H=float(num2)\n",
    "num3 = input(\"Please enter A:\")\n",
    "A=float(num3)\n",
    "num4 = input(\"Please enter first level of inventory:\")\n",
    "inventory=int(num4)"
   ]
  },
  {
   "cell_type": "code",
   "execution_count": 19,
   "metadata": {},
   "outputs": [
    {
     "name": "stdout",
     "output_type": "stream",
     "text": [
      "EOQ is: 35\n"
     ]
    }
   ],
   "source": [
    "#calculating EOQ!\n",
    "\n",
    "sumD =0\n",
    "for i in data_list :\n",
    "    sumD = sumD + i\n",
    "meanD = sumD/n\n",
    "\n",
    "import math\n",
    "EOQ =  math.ceil(math.sqrt(2*meanD*A/H))\n",
    "\n",
    "print(\"EOQ is:\",EOQ)"
   ]
  },
  {
   "cell_type": "code",
   "execution_count": 20,
   "metadata": {},
   "outputs": [
    {
     "name": "stdout",
     "output_type": "stream",
     "text": [
      "EOQ programming is : \n",
      "35 35 35 0 35 "
     ]
    }
   ],
   "source": [
    "#Ordering \n",
    "n=len(data_list)\n",
    "order=[0 for i in range(n)]\n",
    "inven=[0 for i in range(n)]\n",
    "\n",
    "order[0]=EOQ\n",
    "inven[0]=inventory\n",
    "\n",
    "print(\"EOQ programming is : \")\n",
    "for i in range(n) :\n",
    "    if (data_list[i]-inventory) <= 0 :\n",
    "        print (0,end = ' ')\n",
    "        inventory = inventory - data_list[i]\n",
    "        inven[i]=inventory\n",
    "    else:\n",
    "        print(EOQ,end=' ')\n",
    "        order[i]=EOQ\n",
    "        inventory = inventory - data_list[i] + EOQ\n",
    "        inven[i] = inventory"
   ]
  },
  {
   "cell_type": "code",
   "execution_count": 21,
   "metadata": {},
   "outputs": [
    {
     "name": "stdout",
     "output_type": "stream",
     "text": [
      "\n",
      "... calculating, please wait for better visualization ...\n",
      "\n",
      "Order plan:\n",
      "\n",
      "i    Order\n",
      "1       35\n",
      "2       35\n",
      "3       35\n",
      "4        0\n",
      "5       35\n",
      "dtype: object\n",
      "\n"
     ]
    }
   ],
   "source": [
    "#better visualization\n",
    "print(\"\")\n",
    "print(\"... calculating, please wait for better visualization ...\")\n",
    "\n",
    "order.insert(0,'Order')\n",
    "ORD= pd.Series(order,_index)\n",
    "print(\"\")\n",
    "print(\"Order plan:\")\n",
    "print(\"\")\n",
    "print(ORD)\n",
    "print(\"\")"
   ]
  },
  {
   "cell_type": "code",
   "execution_count": 22,
   "metadata": {},
   "outputs": [
    {
     "name": "stdout",
     "output_type": "stream",
     "text": [
      "\n",
      "inventory at the end of each period:\n",
      "\n",
      "i    inventory\n",
      "1           11\n",
      "2           21\n",
      "3           33\n",
      "4            9\n",
      "5           19\n",
      "dtype: object\n",
      "\n"
     ]
    }
   ],
   "source": [
    "inven.insert(0,'inventory')\n",
    "INV= pd.Series(inven,_index)\n",
    "print(\"\")\n",
    "print(\"inventory at the end of each period:\")\n",
    "print(\"\")\n",
    "print(INV)\n",
    "print(\"\")"
   ]
  },
  {
   "cell_type": "code",
   "execution_count": null,
   "metadata": {},
   "outputs": [],
   "source": []
  }
 ],
 "metadata": {
  "kernelspec": {
   "display_name": "Python 3 (ipykernel)",
   "language": "python",
   "name": "python3"
  },
  "language_info": {
   "codemirror_mode": {
    "name": "ipython",
    "version": 3
   },
   "file_extension": ".py",
   "mimetype": "text/x-python",
   "name": "python",
   "nbconvert_exporter": "python",
   "pygments_lexer": "ipython3",
   "version": "3.10.6"
  }
 },
 "nbformat": 4,
 "nbformat_minor": 2
}
