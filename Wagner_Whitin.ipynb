{
 "cells": [
  {
   "cell_type": "markdown",
   "metadata": {},
   "source": [
    "# Wagner_Whitin Method"
   ]
  },
  {
   "cell_type": "code",
   "execution_count": 1,
   "metadata": {},
   "outputs": [
    {
     "name": "stdout",
     "output_type": "stream",
     "text": [
      "please enter your dynamic demand with SPACE as separator and at the end press ENTER!\n",
      "Enter period demand: 220 280 360 140 270\n",
      "... visualizing, please wait ...\n",
      "\n",
      "i    Demand\n",
      "1       220\n",
      "2       280\n",
      "3       360\n",
      "4       140\n",
      "5       270\n",
      "dtype: object\n",
      "\n"
     ]
    }
   ],
   "source": [
    "#Demand entry\n",
    "\n",
    "print(\"please enter your dynamic demand with SPACE as separator and at the end press ENTER!\")\n",
    "data_list = [int(x) for x in input(\"Enter period demand: \").split()]\n",
    "\n",
    "#data visualization\n",
    "n=len(data_list)\n",
    "_index = [i+1 for i in range(n)]\n",
    "d_list=[data_list[i] for i in range(n)]\n",
    "\n",
    "print(\"... visualizing, please wait ...\")\n",
    "import pandas as pd\n",
    "d_list.insert(0,'Demand')\n",
    "_index.insert(0,'i')\n",
    "Data= pd.Series(d_list,_index)\n",
    "print(\"\")\n",
    "print(Data)\n",
    "print(\"\")"
   ]
  },
  {
   "cell_type": "code",
   "execution_count": 2,
   "metadata": {},
   "outputs": [
    {
     "name": "stdout",
     "output_type": "stream",
     "text": [
      "Please enter A(or K):250\n",
      "Please enter H:1\n"
     ]
    }
   ],
   "source": [
    "#parameters\n",
    "num7 = input(\"Please enter A(or K):\")\n",
    "K = float(num7)\n",
    "num8 = input(\"Please enter H:\")\n",
    "H= float(num8)\n",
    "#num9 = input(\"Please enter first inventory level:\")\n",
    "#inventory = int(num9)"
   ]
  },
  {
   "cell_type": "code",
   "execution_count": 4,
   "metadata": {},
   "outputs": [
    {
     "name": "stdout",
     "output_type": "stream",
     "text": [
      "\n",
      "... calculating, please wait ...\n",
      "\n",
      "the cost amounts (z) is : \n"
     ]
    },
    {
     "data": {
      "text/html": [
       "<div>\n",
       "<style scoped>\n",
       "    .dataframe tbody tr th:only-of-type {\n",
       "        vertical-align: middle;\n",
       "    }\n",
       "\n",
       "    .dataframe tbody tr th {\n",
       "        vertical-align: top;\n",
       "    }\n",
       "\n",
       "    .dataframe thead th {\n",
       "        text-align: right;\n",
       "    }\n",
       "</style>\n",
       "<table border=\"1\" class=\"dataframe\">\n",
       "  <thead>\n",
       "    <tr style=\"text-align: right;\">\n",
       "      <th></th>\n",
       "      <th>0</th>\n",
       "      <th>1</th>\n",
       "      <th>2</th>\n",
       "      <th>3</th>\n",
       "      <th>4</th>\n",
       "    </tr>\n",
       "  </thead>\n",
       "  <tbody>\n",
       "    <tr>\n",
       "      <th>0</th>\n",
       "      <td>250.0</td>\n",
       "      <td>530.0</td>\n",
       "      <td>1250.0</td>\n",
       "      <td>1670.0</td>\n",
       "      <td>2750.0</td>\n",
       "    </tr>\n",
       "    <tr>\n",
       "      <th>1</th>\n",
       "      <td>0.0</td>\n",
       "      <td>250.0</td>\n",
       "      <td>610.0</td>\n",
       "      <td>890.0</td>\n",
       "      <td>1700.0</td>\n",
       "    </tr>\n",
       "    <tr>\n",
       "      <th>2</th>\n",
       "      <td>0.0</td>\n",
       "      <td>0.0</td>\n",
       "      <td>250.0</td>\n",
       "      <td>390.0</td>\n",
       "      <td>930.0</td>\n",
       "    </tr>\n",
       "    <tr>\n",
       "      <th>3</th>\n",
       "      <td>0.0</td>\n",
       "      <td>0.0</td>\n",
       "      <td>0.0</td>\n",
       "      <td>250.0</td>\n",
       "      <td>520.0</td>\n",
       "    </tr>\n",
       "    <tr>\n",
       "      <th>4</th>\n",
       "      <td>0.0</td>\n",
       "      <td>0.0</td>\n",
       "      <td>0.0</td>\n",
       "      <td>0.0</td>\n",
       "      <td>250.0</td>\n",
       "    </tr>\n",
       "  </tbody>\n",
       "</table>\n",
       "</div>"
      ],
      "text/plain": [
       "       0      1       2       3       4\n",
       "0  250.0  530.0  1250.0  1670.0  2750.0\n",
       "1    0.0  250.0   610.0   890.0  1700.0\n",
       "2    0.0    0.0   250.0   390.0   930.0\n",
       "3    0.0    0.0     0.0   250.0   520.0\n",
       "4    0.0    0.0     0.0     0.0   250.0"
      ]
     },
     "execution_count": 4,
     "metadata": {},
     "output_type": "execute_result"
    }
   ],
   "source": [
    "#calculating\n",
    "print(\"\")\n",
    "print(\"... calculating, please wait ...\")\n",
    "print(\"\")\n",
    "print(\"the cost amounts (z) is : \")\n",
    "\n",
    "#calculating c ( or z)\n",
    "cost = [[0 for i in range(0,n)] for j in range(0, n)]\n",
    "\n",
    "for i in range(0, n):\n",
    "        for j in range(i , n):\n",
    "            cost[i][j] += K\n",
    "            for k in range(i + 1, (j + 1)):\n",
    "                # print (\"demand: \", k, \"holding days: \", k - i)\n",
    "                cost[i][j] += H * (k - i) * data_list[k]\n",
    "                \n",
    "#visualization\n",
    "import pandas as pd\n",
    "pd.DataFrame(cost)"
   ]
  },
  {
   "cell_type": "code",
   "execution_count": 6,
   "metadata": {},
   "outputs": [
    {
     "name": "stdout",
     "output_type": "stream",
     "text": [
      "\n",
      "... calculating, please wait ...\n",
      "\n",
      "creating decision space for each stage, and calculating optimal answer : \n",
      "\n",
      "f amounts are:\n",
      "\n",
      "[0, 250.0, 500.0, 750.0, 890.0, 1140.0]\n",
      "\n",
      "Also, Decision space is:\n"
     ]
    },
    {
     "data": {
      "text/html": [
       "<div>\n",
       "<style scoped>\n",
       "    .dataframe tbody tr th:only-of-type {\n",
       "        vertical-align: middle;\n",
       "    }\n",
       "\n",
       "    .dataframe tbody tr th {\n",
       "        vertical-align: top;\n",
       "    }\n",
       "\n",
       "    .dataframe thead th {\n",
       "        text-align: right;\n",
       "    }\n",
       "</style>\n",
       "<table border=\"1\" class=\"dataframe\">\n",
       "  <thead>\n",
       "    <tr style=\"text-align: right;\">\n",
       "      <th></th>\n",
       "      <th>0</th>\n",
       "      <th>1</th>\n",
       "      <th>2</th>\n",
       "      <th>3</th>\n",
       "      <th>4</th>\n",
       "    </tr>\n",
       "  </thead>\n",
       "  <tbody>\n",
       "    <tr>\n",
       "      <th>0</th>\n",
       "      <td>250.0</td>\n",
       "      <td>530.0</td>\n",
       "      <td>1250.0</td>\n",
       "      <td>1670.0</td>\n",
       "      <td>2750.0</td>\n",
       "    </tr>\n",
       "    <tr>\n",
       "      <th>1</th>\n",
       "      <td>0.0</td>\n",
       "      <td>500.0</td>\n",
       "      <td>860.0</td>\n",
       "      <td>1140.0</td>\n",
       "      <td>1950.0</td>\n",
       "    </tr>\n",
       "    <tr>\n",
       "      <th>2</th>\n",
       "      <td>0.0</td>\n",
       "      <td>0.0</td>\n",
       "      <td>750.0</td>\n",
       "      <td>890.0</td>\n",
       "      <td>1430.0</td>\n",
       "    </tr>\n",
       "    <tr>\n",
       "      <th>3</th>\n",
       "      <td>0.0</td>\n",
       "      <td>0.0</td>\n",
       "      <td>0.0</td>\n",
       "      <td>1000.0</td>\n",
       "      <td>1270.0</td>\n",
       "    </tr>\n",
       "    <tr>\n",
       "      <th>4</th>\n",
       "      <td>0.0</td>\n",
       "      <td>0.0</td>\n",
       "      <td>0.0</td>\n",
       "      <td>0.0</td>\n",
       "      <td>1140.0</td>\n",
       "    </tr>\n",
       "  </tbody>\n",
       "</table>\n",
       "</div>"
      ],
      "text/plain": [
       "       0      1       2       3       4\n",
       "0  250.0  530.0  1250.0  1670.0  2750.0\n",
       "1    0.0  500.0   860.0  1140.0  1950.0\n",
       "2    0.0    0.0   750.0   890.0  1430.0\n",
       "3    0.0    0.0     0.0  1000.0  1270.0\n",
       "4    0.0    0.0     0.0     0.0  1140.0"
      ]
     },
     "execution_count": 6,
     "metadata": {},
     "output_type": "execute_result"
    }
   ],
   "source": [
    "print(\"\")\n",
    "print(\"... calculating, please wait ...\")\n",
    "print(\"\")\n",
    "print(\"creating decision space for each stage, and calculating optimal answer : \")\n",
    "\n",
    "#Desion space for each i\n",
    "De = [[0 for i in range(0,n)] for j in range(0, n)]\n",
    "\n",
    "#f is optimal seprate answer for each i\n",
    "#F consites of f(0)=0 as the first unite\n",
    "F = [0 for j in range(0, n+1)]\n",
    "\n",
    "for j in range(0,n):\n",
    "    for i in range(0,j+1):\n",
    "        De[i][j]=cost[i][j]+F[i]\n",
    "\n",
    "            \n",
    "    temp = De[0][j]\n",
    "    for k in range (0,j+1):\n",
    "            if (De[k][j]<temp):\n",
    "                temp=De[k][j]\n",
    "            \n",
    "    F[j+1]=temp\n",
    "\n",
    "print(\"\")\n",
    "print(\"f amounts are:\")\n",
    "print(\"\")    \n",
    "print(F)\n",
    "\n",
    "print(\"\")\n",
    "print(\"Also, Decision space is:\")  \n",
    "pd.DataFrame(De)"
   ]
  },
  {
   "cell_type": "code",
   "execution_count": 7,
   "metadata": {},
   "outputs": [
    {
     "name": "stdout",
     "output_type": "stream",
     "text": [
      "\n",
      "... calculating, please wait ...\n",
      "\n",
      "the order planing is : \n"
     ]
    },
    {
     "data": {
      "text/plain": [
       "[220, 280, 500, 0, 270]"
      ]
     },
     "execution_count": 7,
     "metadata": {},
     "output_type": "execute_result"
    }
   ],
   "source": [
    "# tracking based on  which column & row were min in De(decision space)\n",
    "# order programming\n",
    "\n",
    "print(\"\")\n",
    "print(\"... calculating, please wait ...\")\n",
    "print(\"\")\n",
    "print(\"the order planing is : \")\n",
    "\n",
    "order = [0 for j in range(0, n)]\n",
    "TempOrd = data_list[n-1]\n",
    "\n",
    "for j in range(n):\n",
    "            if (De[n-j-1][n-j-1]==F[n-j]):\n",
    "                order[n-j-1]=TempOrd\n",
    "                TempOrd = data_list[n-j-2]\n",
    "            else:\n",
    "                TempOrd +=data_list[n-j-2]\n",
    "                order[n-j-1]=0\n",
    "order"
   ]
  },
  {
   "cell_type": "code",
   "execution_count": 8,
   "metadata": {},
   "outputs": [
    {
     "name": "stdout",
     "output_type": "stream",
     "text": [
      "\n",
      "... calculating, please wait for better visualization ...\n",
      "\n",
      "Order plan:\n",
      "\n",
      "i    Order\n",
      "1      220\n",
      "2      280\n",
      "3      500\n",
      "4        0\n",
      "5      270\n",
      "dtype: object\n",
      "\n"
     ]
    }
   ],
   "source": [
    "#better visualization\n",
    "print(\"\")\n",
    "print(\"... calculating, please wait for better visualization ...\")\n",
    "\n",
    "order.insert(0,'Order')\n",
    "ORD= pd.Series(order,_index)\n",
    "print(\"\")\n",
    "print(\"Order plan:\")\n",
    "print(\"\")\n",
    "print(ORD)\n",
    "print(\"\")"
   ]
  },
  {
   "cell_type": "code",
   "execution_count": null,
   "metadata": {},
   "outputs": [],
   "source": []
  }
 ],
 "metadata": {
  "kernelspec": {
   "display_name": "Python 3 (ipykernel)",
   "language": "python",
   "name": "python3"
  },
  "language_info": {
   "codemirror_mode": {
    "name": "ipython",
    "version": 3
   },
   "file_extension": ".py",
   "mimetype": "text/x-python",
   "name": "python",
   "nbconvert_exporter": "python",
   "pygments_lexer": "ipython3",
   "version": "3.10.6"
  }
 },
 "nbformat": 4,
 "nbformat_minor": 2
}
