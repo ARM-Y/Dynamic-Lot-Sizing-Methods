{
 "cells": [
  {
   "cell_type": "markdown",
   "metadata": {},
   "source": [
    "# LTC(Least total cost) Method"
   ]
  },
  {
   "cell_type": "code",
   "execution_count": 2,
   "metadata": {},
   "outputs": [
    {
     "name": "stdout",
     "output_type": "stream",
     "text": [
      "please enter your dynamic demand with SPACE as separator and at the end press ENTER!\n",
      "Enter period demand: 30 40 0 10 40 30 0 30 55 0\n",
      "... visualizing, please wait ...\n",
      "\n",
      "i     Demand\n",
      "1         30\n",
      "2         40\n",
      "3          0\n",
      "4         10\n",
      "5         40\n",
      "6         30\n",
      "7          0\n",
      "8         30\n",
      "9         55\n",
      "10         0\n",
      "dtype: object\n",
      "\n"
     ]
    }
   ],
   "source": [
    "#Demand entry\n",
    "\n",
    "print(\"please enter your dynamic demand with SPACE as separator and at the end press ENTER!\")\n",
    "data_list = [int(x) for x in input(\"Enter period demand: \").split()]\n",
    "\n",
    "#data visualization\n",
    "n=len(data_list)\n",
    "_index = [i+1 for i in range(n)]\n",
    "d_list=[data_list[i] for i in range(n)]\n",
    "\n",
    "print(\"... visualizing, please wait ...\")\n",
    "import pandas as pd\n",
    "d_list.insert(0,'Demand')\n",
    "_index.insert(0,'i')\n",
    "Data= pd.Series(d_list,_index)\n",
    "print(\"\")\n",
    "print(Data)\n",
    "print(\"\")"
   ]
  },
  {
   "cell_type": "code",
   "execution_count": 3,
   "metadata": {},
   "outputs": [
    {
     "name": "stdout",
     "output_type": "stream",
     "text": [
      "Please enter H:2\n",
      "Please enter A:200\n"
     ]
    }
   ],
   "source": [
    "#parameters\n",
    "\n",
    "num2 = input(\"Please enter H:\")\n",
    "H=float(num2)\n",
    "num3 = input(\"Please enter A:\")\n",
    "A=float(num3)"
   ]
  },
  {
   "cell_type": "code",
   "execution_count": 4,
   "metadata": {},
   "outputs": [
    {
     "name": "stdout",
     "output_type": "stream",
     "text": [
      "\n",
      "... calculating, please wait ...\n",
      "\n",
      "FOQ programming is : \n",
      "\n",
      "80\n",
      "0\n",
      "0\n",
      "0\n",
      "70\n",
      "0\n",
      "0\n",
      "85\n",
      "0\n",
      "0\n"
     ]
    }
   ],
   "source": [
    "#calculating\n",
    "print(\"\")\n",
    "print(\"... calculating, please wait ...\")\n",
    "print(\"\")\n",
    "print(\"FOQ programming is : \")\n",
    "print(\"\")\n",
    "\n",
    "order=[0 for i in range(n)]\n",
    "counter = 0\n",
    "\n",
    "for j in range(n) :\n",
    "    if counter>0 : \n",
    "        counter = counter -1\n",
    "        print(0)\n",
    "        \n",
    "    elif j==n-1:\n",
    "        sumD=data_list[j]\n",
    "        print(sumDTemp)\n",
    "        order[j]=sumDTemp\n",
    "        \n",
    "    else :\n",
    "        Hc=0\n",
    "        sumD=data_list[j]\n",
    "        for i in range(j+1,n):\n",
    "            Hc = Hc + (H*data_list[i]*(i-j))\n",
    "            sumD = sumD + data_list[i]\n",
    "            \n",
    "            if Hc > A:\n",
    "                print (sumDTemp)\n",
    "                order[j]=sumDTemp\n",
    "                break\n",
    "                \n",
    "            elif i ==n-1 :\n",
    "                print (sumD)\n",
    "                order[j]=sumD\n",
    "                counter = counter + 1\n",
    "                break        \n",
    "                \n",
    "            else :\n",
    "                counter = counter + 1\n",
    "                sumDTemp = sumD"
   ]
  },
  {
   "cell_type": "code",
   "execution_count": null,
   "metadata": {},
   "outputs": [],
   "source": [
    "# Solved example in class was wrong in second step. 5,6,7,8 has a bigger holding cost than A, therefore 5,6,7(70) should have been selected!"
   ]
  },
  {
   "cell_type": "code",
   "execution_count": 5,
   "metadata": {},
   "outputs": [
    {
     "name": "stdout",
     "output_type": "stream",
     "text": [
      "\n",
      "... calculating, please wait for better visualization ...\n",
      "\n",
      "Order plan:\n",
      "\n",
      "i     Order\n",
      "1        80\n",
      "2         0\n",
      "3         0\n",
      "4         0\n",
      "5        70\n",
      "6         0\n",
      "7         0\n",
      "8        85\n",
      "9         0\n",
      "10        0\n",
      "dtype: object\n",
      "\n"
     ]
    }
   ],
   "source": [
    "#better visualization\n",
    "print(\"\")\n",
    "print(\"... calculating, please wait for better visualization ...\")\n",
    "\n",
    "order.insert(0,'Order')\n",
    "ORD= pd.Series(order,_index)\n",
    "print(\"\")\n",
    "print(\"Order plan:\")\n",
    "print(\"\")\n",
    "print(ORD)\n",
    "print(\"\")"
   ]
  },
  {
   "cell_type": "code",
   "execution_count": null,
   "metadata": {},
   "outputs": [],
   "source": []
  }
 ],
 "metadata": {
  "kernelspec": {
   "display_name": "Python 3 (ipykernel)",
   "language": "python",
   "name": "python3"
  },
  "language_info": {
   "codemirror_mode": {
    "name": "ipython",
    "version": 3
   },
   "file_extension": ".py",
   "mimetype": "text/x-python",
   "name": "python",
   "nbconvert_exporter": "python",
   "pygments_lexer": "ipython3",
   "version": "3.10.6"
  }
 },
 "nbformat": 4,
 "nbformat_minor": 2
}
