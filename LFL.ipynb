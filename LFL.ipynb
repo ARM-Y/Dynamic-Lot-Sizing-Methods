{
 "cells": [
  {
   "cell_type": "code",
   "execution_count": 6,
   "metadata": {},
   "outputs": [
    {
     "name": "stdout",
     "output_type": "stream",
     "text": [
      "please enter your dynamic demand with SPACE as separator and at the end press ENTER!\n",
      "Enter period demand: 1 12 12\n",
      "... visualizing, please wait ...\n",
      "\n",
      "i    Demand\n",
      "1         1\n",
      "2        12\n",
      "3        12\n",
      "dtype: object\n",
      "\n",
      "Please enter H:2\n",
      "Please enter A:5\n",
      "Lot for lot programming is : \n",
      "... calculating, please wait ...\n",
      "\n"
     ]
    },
    {
     "data": {
      "text/plain": [
       "i    Order\n",
       "1        1\n",
       "2       12\n",
       "3       12\n",
       "dtype: object"
      ]
     },
     "execution_count": 6,
     "metadata": {},
     "output_type": "execute_result"
    }
   ],
   "source": [
    "#Demand entry\n",
    "\n",
    "print(\"please enter your dynamic demand with SPACE as separator and at the end press ENTER!\")\n",
    "data_list = [int(x) for x in input(\"Enter period demand: \").split()]\n",
    "\n",
    "#Order calculation\n",
    "n=len(data_list)\n",
    "order = [i for i in data_list]\n",
    "_index = [i+1 for i in range(n)]\n",
    "\n",
    "#data visualization\n",
    "print(\"... visualizing, please wait ...\")\n",
    "\n",
    "import pandas as pd\n",
    "data_list.insert(0,'Demand')\n",
    "_index.insert(0,'i')\n",
    "Data= pd.Series(data_list,_index)\n",
    "print(\"\")\n",
    "print(Data)\n",
    "print(\"\")\n",
    "\n",
    "#parameters;  A, H \n",
    "num2 = input(\"Please enter H:\")\n",
    "H=float(num2)\n",
    "num3 = input(\"Please enter A:\")\n",
    "A=float(num3)\n",
    "\n",
    "\n",
    "#output\n",
    "print(\"Lot for lot programming is : \")\n",
    "print(\"... calculating, please wait ...\")\n",
    "print(\"\")\n",
    "order.insert(0,'Order')\n",
    "Order= pd.Series(order,_index)\n",
    "Order"
   ]
  },
  {
   "cell_type": "code",
   "execution_count": 10,
   "metadata": {},
   "outputs": [
    {
     "name": "stdout",
     "output_type": "stream",
     "text": [
      "... calculating costs, please wait ...\n",
      "holding cost is: 0\n",
      "\n",
      "Ordering cost is: 15.0\n",
      "\n",
      "total system cost is : 15.0\n"
     ]
    }
   ],
   "source": [
    "#calculating sustem costs\n",
    "print(\"... calculating costs, please wait ...\")\n",
    "\n",
    "hcost = 0\n",
    "acost=-A\n",
    "for i in data_list:\n",
    "    acost+=A\n",
    "    \n",
    "print(\"holding cost is:\",hcost)\n",
    "print(\"\")\n",
    "print(\"Ordering cost is:\",acost)\n",
    "print(\"\")\n",
    "\n",
    "totalcost = acost+hcost\n",
    "print(\"total system cost is :\",totalcost)"
   ]
  }
 ],
 "metadata": {
  "kernelspec": {
   "display_name": "Python 3 (ipykernel)",
   "language": "python",
   "name": "python3"
  },
  "language_info": {
   "codemirror_mode": {
    "name": "ipython",
    "version": 3
   },
   "file_extension": ".py",
   "mimetype": "text/x-python",
   "name": "python",
   "nbconvert_exporter": "python",
   "pygments_lexer": "ipython3",
   "version": "3.10.6"
  }
 },
 "nbformat": 4,
 "nbformat_minor": 2
}
