{
 "cells": [
  {
   "cell_type": "markdown",
   "metadata": {},
   "source": [
    "# FOQ(fixed order quantity) Method "
   ]
  },
  {
   "cell_type": "code",
   "execution_count": 73,
   "metadata": {},
   "outputs": [
    {
     "name": "stdout",
     "output_type": "stream",
     "text": [
      "please enter your dynamic demand with SPACE as separator and at the end press ENTER!\n",
      "Enter period demand: 0 40 10 25 35 0 10 10 35\n",
      "... visualizing, please wait ...\n",
      "\n",
      "i    Demand\n",
      "1         0\n",
      "2        40\n",
      "3        10\n",
      "4        25\n",
      "5        35\n",
      "6         0\n",
      "7        10\n",
      "8        10\n",
      "9        35\n",
      "dtype: object\n",
      "\n",
      "Please enter FOQ(a positive integer number!):15\n",
      "Please enter first level of inventory:0\n"
     ]
    }
   ],
   "source": [
    "#Demand entry\n",
    "\n",
    "print(\"please enter your dynamic demand with SPACE as separator and at the end press ENTER!\")\n",
    "data_list = [int(x) for x in input(\"Enter period demand: \").split()]\n",
    "\n",
    "#data visualization\n",
    "n=len(data_list)\n",
    "_index = [i+1 for i in range(n)]\n",
    "d_list=[data_list[i] for i in range(n)]\n",
    "\n",
    "print(\"... visualizing, please wait ...\")\n",
    "import pandas as pd\n",
    "d_list.insert(0,'Demand')\n",
    "_index.insert(0,'i')\n",
    "Data= pd.Series(d_list,_index)\n",
    "print(\"\")\n",
    "print(Data)\n",
    "print(\"\")\n",
    "\n",
    "#foq & first inventory\n",
    "num4 = input(\"Please enter FOQ(a positive integer number!):\")\n",
    "foq = int(num4)\n",
    "num5 = input(\"Please enter first level of inventory:\")\n",
    "inventory = int(num5)\n",
    "inven[0]=inventory"
   ]
  },
  {
   "cell_type": "code",
   "execution_count": 74,
   "metadata": {},
   "outputs": [],
   "source": [
    "order=[0 for i in range(n)]\n",
    "inven=[0 for i in range(n)]\n"
   ]
  },
  {
   "cell_type": "code",
   "execution_count": 75,
   "metadata": {},
   "outputs": [
    {
     "name": "stdout",
     "output_type": "stream",
     "text": [
      "\n",
      "... calculating, please wait ...\n",
      "FOQ programming is : \n",
      "0 45 15 15 45 0 0 15 30 "
     ]
    }
   ],
   "source": [
    "#calculating\n",
    "print(\"\")\n",
    "print(\"... calculating, please wait ...\")\n",
    "\n",
    "import math\n",
    "\n",
    "print(\"FOQ programming is : \")\n",
    "for i in range(n) :\n",
    "    if (data_list[i]-inventory) <= 0 :\n",
    "        print (0,end = ' ')\n",
    "        inventory = inventory - data_list[i]\n",
    "        inven[i]=inventory\n",
    "    elif (data_list[i]-inventory) <= foq:\n",
    "        print (foq,end = ' ')\n",
    "        order[i]=foq\n",
    "        inventory = inventory - data_list[i] + foq\n",
    "        inven[i]=inventory\n",
    "    else :\n",
    "        print ((math.ceil((data_list[i]-inventory)/foq)*foq),end = ' ')\n",
    "        order[i]=math.ceil((data_list[i]-inventory)/foq)*foq\n",
    "        inventory = inventory - data_list[i] + (math.ceil((data_list[i]-inventory)/foq)*foq)\n",
    "        inven[i]=inventory\n"
   ]
  },
  {
   "cell_type": "code",
   "execution_count": 76,
   "metadata": {},
   "outputs": [
    {
     "name": "stdout",
     "output_type": "stream",
     "text": [
      "\n",
      "... calculating, please wait for better visualization ...\n",
      "\n",
      "Order plan:\n",
      "\n",
      "i    Order\n",
      "1        0\n",
      "2       45\n",
      "3       15\n",
      "4       15\n",
      "5       45\n",
      "6        0\n",
      "7        0\n",
      "8       15\n",
      "9       30\n",
      "dtype: object\n",
      "\n"
     ]
    }
   ],
   "source": [
    "#better visualization\n",
    "print(\"\")\n",
    "print(\"... calculating, please wait for better visualization ...\")\n",
    "\n",
    "order.insert(0,'Order')\n",
    "ORD= pd.Series(order,_index)\n",
    "print(\"\")\n",
    "print(\"Order plan:\")\n",
    "print(\"\")\n",
    "print(ORD)\n",
    "print(\"\")"
   ]
  },
  {
   "cell_type": "code",
   "execution_count": 77,
   "metadata": {},
   "outputs": [
    {
     "name": "stdout",
     "output_type": "stream",
     "text": [
      "\n",
      "inventory at the end of each period:\n",
      "\n",
      "i    inventory\n",
      "1            0\n",
      "2            5\n",
      "3           10\n",
      "4            0\n",
      "5           10\n",
      "6           10\n",
      "7            0\n",
      "8            5\n",
      "9            0\n",
      "dtype: object\n",
      "\n"
     ]
    }
   ],
   "source": [
    "inven.insert(0,'inventory')\n",
    "INV= pd.Series(inven,_index)\n",
    "print(\"\")\n",
    "print(\"inventory at the end of each period:\")\n",
    "print(\"\")\n",
    "print(INV)\n",
    "print(\"\")"
   ]
  },
  {
   "cell_type": "code",
   "execution_count": 78,
   "metadata": {},
   "outputs": [
    {
     "name": "stdout",
     "output_type": "stream",
     "text": [
      "Please enter H:1\n",
      "Please enter A:1\n"
     ]
    }
   ],
   "source": [
    "#cost input\n",
    "num2 = input(\"Please enter H:\")\n",
    "H=float(num2)\n",
    "num3 = input(\"Please enter A:\")\n",
    "A=float(num3)\n"
   ]
  },
  {
   "cell_type": "code",
   "execution_count": 79,
   "metadata": {},
   "outputs": [
    {
     "name": "stdout",
     "output_type": "stream",
     "text": [
      "... calculating costs, please wait ...\n",
      "holding cost is: 40.0\n",
      "\n",
      "Ordering cost is: 6.0\n",
      "\n",
      "total system cost is : 46.0\n"
     ]
    }
   ],
   "source": [
    "#calculating sustem costs\n",
    "\n",
    "print(\"... calculating costs, please wait ...\")\n",
    "\n",
    "order.remove('Order')\n",
    "inven.remove('inventory')\n",
    "hcost = 0\n",
    "acost=0\n",
    "for i in order:\n",
    "    if(i>0):\n",
    "        acost+=A\n",
    "        \n",
    "for i in inven:\n",
    "    hcost+= H*i\n",
    "    \n",
    "print(\"holding cost is:\",hcost)\n",
    "print(\"\")\n",
    "print(\"Ordering cost is:\",acost)\n",
    "print(\"\")\n",
    "\n",
    "totalcost = acost+hcost\n",
    "print(\"total system cost is :\",totalcost)"
   ]
  }
 ],
 "metadata": {
  "kernelspec": {
   "display_name": "Python 3 (ipykernel)",
   "language": "python",
   "name": "python3"
  },
  "language_info": {
   "codemirror_mode": {
    "name": "ipython",
    "version": 3
   },
   "file_extension": ".py",
   "mimetype": "text/x-python",
   "name": "python",
   "nbconvert_exporter": "python",
   "pygments_lexer": "ipython3",
   "version": "3.10.6"
  }
 },
 "nbformat": 4,
 "nbformat_minor": 2
}
