{
 "cells": [
  {
   "cell_type": "markdown",
   "metadata": {},
   "source": [
    "# POQ(Peridic order quantity) Method"
   ]
  },
  {
   "cell_type": "code",
   "execution_count": 1,
   "metadata": {},
   "outputs": [
    {
     "name": "stdout",
     "output_type": "stream",
     "text": [
      "please enter your dynamic demand with SPACE as separator and at the end press ENTER!\n",
      "Enter period demand: 45 60 35 50 70 60 60 50 55\n",
      "... visualizing, please wait ...\n",
      "\n",
      "i    Demand\n",
      "1        45\n",
      "2        60\n",
      "3        35\n",
      "4        50\n",
      "5        70\n",
      "6        60\n",
      "7        60\n",
      "8        50\n",
      "9        55\n",
      "dtype: object\n",
      "\n"
     ]
    }
   ],
   "source": [
    "#Demand entry\n",
    "\n",
    "print(\"please enter your dynamic demand with SPACE as separator and at the end press ENTER!\")\n",
    "data_list = [int(x) for x in input(\"Enter period demand: \").split()]\n",
    "\n",
    "#data visualization\n",
    "n=len(data_list)\n",
    "_index = [i+1 for i in range(n)]\n",
    "d_list=[data_list[i] for i in range(n)]\n",
    "\n",
    "print(\"... visualizing, please wait ...\")\n",
    "import pandas as pd\n",
    "d_list.insert(0,'Demand')\n",
    "_index.insert(0,'i')\n",
    "Data= pd.Series(d_list,_index)\n",
    "print(\"\")\n",
    "print(Data)\n",
    "print(\"\")"
   ]
  },
  {
   "cell_type": "code",
   "execution_count": 3,
   "metadata": {},
   "outputs": [
    {
     "name": "stdout",
     "output_type": "stream",
     "text": [
      "Please enter number of period interval you would like to order:2\n",
      "Please enter maximum inventory level:140\n",
      "Please enter first inventory level:0\n"
     ]
    }
   ],
   "source": [
    "#parameters\n",
    "num7 = input(\"Please enter number of period interval you would like to order:\")\n",
    "tt = int(num7)\n",
    "num8 = input(\"Please enter maximum inventory level:\")\n",
    "maxI = int(num8)\n",
    "num9 = input(\"Please enter first inventory level:\")\n",
    "inventory = int(num9)"
   ]
  },
  {
   "cell_type": "code",
   "execution_count": 4,
   "metadata": {},
   "outputs": [
    {
     "name": "stdout",
     "output_type": "stream",
     "text": [
      "\n",
      "... calculating, please wait ...\n",
      "\n",
      "POQ programming is : \n",
      "140 0 105 0 85 0 130 0 110 "
     ]
    }
   ],
   "source": [
    "#calculating\n",
    "print(\"\")\n",
    "print(\"... calculating, please wait ...\")\n",
    "print(\"\")\n",
    "print(\"POQ programming is : \")\n",
    "\n",
    "order=[0 for i in range(n)]\n",
    "print(maxI-inventory,end=' ')\n",
    "order[0]= maxI-inventory\n",
    "for j in range(1,n) :\n",
    "    s=0\n",
    "    if j%tt == 0 :\n",
    "        for i in range(j-tt,j) :\n",
    "            s=s+data_list[i]\n",
    "        print (s,end=' ')\n",
    "        order[j]=s\n",
    "    else :\n",
    "        print (0,end=' ')"
   ]
  },
  {
   "cell_type": "code",
   "execution_count": 5,
   "metadata": {},
   "outputs": [
    {
     "name": "stdout",
     "output_type": "stream",
     "text": [
      "\n",
      "... calculating, please wait for better visualization ...\n",
      "\n",
      "Order plan:\n",
      "\n",
      "i    Order\n",
      "1      140\n",
      "2        0\n",
      "3      105\n",
      "4        0\n",
      "5       85\n",
      "6        0\n",
      "7      130\n",
      "8        0\n",
      "9      110\n",
      "dtype: object\n",
      "\n"
     ]
    }
   ],
   "source": [
    "#better visualization\n",
    "print(\"\")\n",
    "print(\"... calculating, please wait for better visualization ...\")\n",
    "\n",
    "order.insert(0,'Order')\n",
    "ORD= pd.Series(order,_index)\n",
    "print(\"\")\n",
    "print(\"Order plan:\")\n",
    "print(\"\")\n",
    "print(ORD)\n",
    "print(\"\")"
   ]
  },
  {
   "cell_type": "code",
   "execution_count": null,
   "metadata": {},
   "outputs": [],
   "source": []
  }
 ],
 "metadata": {
  "kernelspec": {
   "display_name": "Python 3 (ipykernel)",
   "language": "python",
   "name": "python3"
  },
  "language_info": {
   "codemirror_mode": {
    "name": "ipython",
    "version": 3
   },
   "file_extension": ".py",
   "mimetype": "text/x-python",
   "name": "python",
   "nbconvert_exporter": "python",
   "pygments_lexer": "ipython3",
   "version": "3.10.6"
  }
 },
 "nbformat": 4,
 "nbformat_minor": 2
}
