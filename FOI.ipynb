{
 "cells": [
  {
   "cell_type": "markdown",
   "metadata": {},
   "source": [
    "# FOI/FOP(fixed order period) Method"
   ]
  },
  {
   "cell_type": "code",
   "execution_count": 19,
   "metadata": {},
   "outputs": [
    {
     "name": "stdout",
     "output_type": "stream",
     "text": [
      "please enter your dynamic demand with SPACE as separator and at the end press ENTER!\n",
      "Enter period demand: 15 10 10 12 12 12\n",
      "... visualizing, please wait ...\n",
      "\n",
      "i    Demand\n",
      "1        15\n",
      "2        10\n",
      "3        10\n",
      "4        12\n",
      "5        12\n",
      "6        12\n",
      "dtype: object\n",
      "\n",
      "Please enter FOI(a positive integer number!):3\n"
     ]
    }
   ],
   "source": [
    "#Demand entry\n",
    "\n",
    "print(\"please enter your dynamic demand with SPACE as separator and at the end press ENTER!\")\n",
    "data_list = [int(x) for x in input(\"Enter period demand: \").split()]\n",
    "\n",
    "#data visualization\n",
    "n=len(data_list)\n",
    "_index = [i+1 for i in range(n)]\n",
    "d_list=[data_list[i] for i in range(n)]\n",
    "\n",
    "print(\"... visualizing, please wait ...\")\n",
    "import pandas as pd\n",
    "d_list.insert(0,'Demand')\n",
    "_index.insert(0,'i')\n",
    "Data= pd.Series(d_list,_index)\n",
    "print(\"\")\n",
    "print(Data)\n",
    "print(\"\")\n",
    "\n",
    "#foi \n",
    "num4 = input(\"Please enter FOI(a positive integer number!):\")\n",
    "foi = int(num4)\n"
   ]
  },
  {
   "cell_type": "code",
   "execution_count": 20,
   "metadata": {},
   "outputs": [
    {
     "name": "stdout",
     "output_type": "stream",
     "text": [
      "\n",
      "... calculating, please wait ...\n",
      "\n",
      "FOI programming is : \n",
      "35\n",
      "0\n",
      "0\n",
      "36\n",
      "0\n",
      "0\n"
     ]
    }
   ],
   "source": [
    "#calculating\n",
    "print(\"\")\n",
    "print(\"... calculating, please wait ...\")\n",
    "print(\"\")\n",
    "print(\"FOI programming is : \")\n",
    "\n",
    "\n",
    "order=[0 for i in range(n)]\n",
    "inven=[0 for i in range(n)]\n",
    "\n",
    "for i in range(foi):\n",
    "    data_list.append(0)\n",
    "\n",
    "for j in range(n) :\n",
    "    s=0\n",
    "    if j%foi == 0 :\n",
    "        for i in range(j,j+foi) :\n",
    "            s=s+data_list[i]\n",
    "        order[j]=s\n",
    "        print (s)\n",
    "    else :\n",
    "        print (0)"
   ]
  },
  {
   "cell_type": "code",
   "execution_count": 21,
   "metadata": {},
   "outputs": [
    {
     "name": "stdout",
     "output_type": "stream",
     "text": [
      "\n",
      "... calculating, please wait for better visualization ...\n",
      "\n",
      "Order plan:\n",
      "\n",
      "i    Order\n",
      "1       35\n",
      "2        0\n",
      "3        0\n",
      "4       36\n",
      "5        0\n",
      "6        0\n",
      "dtype: object\n",
      "\n"
     ]
    }
   ],
   "source": [
    "#better visualization\n",
    "print(\"\")\n",
    "print(\"... calculating, please wait for better visualization ...\")\n",
    "\n",
    "order.insert(0,'Order')\n",
    "ORD= pd.Series(order,_index)\n",
    "print(\"\")\n",
    "print(\"Order plan:\")\n",
    "print(\"\")\n",
    "print(ORD)\n",
    "print(\"\")"
   ]
  },
  {
   "cell_type": "code",
   "execution_count": null,
   "metadata": {},
   "outputs": [],
   "source": []
  }
 ],
 "metadata": {
  "kernelspec": {
   "display_name": "Python 3 (ipykernel)",
   "language": "python",
   "name": "python3"
  },
  "language_info": {
   "codemirror_mode": {
    "name": "ipython",
    "version": 3
   },
   "file_extension": ".py",
   "mimetype": "text/x-python",
   "name": "python",
   "nbconvert_exporter": "python",
   "pygments_lexer": "ipython3",
   "version": "3.10.6"
  }
 },
 "nbformat": 4,
 "nbformat_minor": 2
}
